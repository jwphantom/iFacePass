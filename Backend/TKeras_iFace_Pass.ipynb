{
 "cells": [
  {
   "cell_type": "code",
   "execution_count": 1,
   "id": "544caf11",
   "metadata": {},
   "outputs": [],
   "source": [
    "import cv2\n",
    "import os\n",
    "import shutil\n",
    "import random\n",
    "import numpy as np \n",
    "import matplotlib.pyplot as plt\n"
   ]
  },
  {
   "cell_type": "code",
   "execution_count": 2,
   "id": "db843856",
   "metadata": {},
   "outputs": [
    {
     "name": "stderr",
     "output_type": "stream",
     "text": [
      "2023-11-19 15:31:15.381786: I tensorflow/core/platform/cpu_feature_guard.cc:182] This TensorFlow binary is optimized to use available CPU instructions in performance-critical operations.\n",
      "To enable the following instructions: AVX2 FMA, in other operations, rebuild TensorFlow with the appropriate compiler flags.\n"
     ]
    }
   ],
   "source": [
    "import tensorflow as tf"
   ]
  },
  {
   "cell_type": "code",
   "execution_count": 3,
   "id": "a8ab47b1",
   "metadata": {},
   "outputs": [],
   "source": [
    "from keras.models import Model\n",
    "from keras.layers import Layer, Conv2D, Dense, MaxPooling2D, Input, Flatten"
   ]
  },
  {
   "cell_type": "code",
   "execution_count": 4,
   "id": "2a8d7659",
   "metadata": {},
   "outputs": [],
   "source": [
    " # gestion du gpu\n",
    "gpus =tf.config.experimental.list_physical_devices(\"GPU\")\n",
    "for gpu in gpus:\n",
    "    tf.config.experimental.set_memory_growth(gpu,True)"
   ]
  },
  {
   "cell_type": "code",
   "execution_count": 6,
   "id": "b773d922",
   "metadata": {},
   "outputs": [],
   "source": [
    "# Chemins\n",
    "IMAGE_POS = os.path.join('data', 'positive')\n",
    "IMAGE_NEG = os.path.join('data', 'negative')\n",
    "SELFIE = os.path.join('data', 'selfie')\n",
    "\n",
    "# Liste des dossiers\n",
    "folders = [IMAGE_POS, IMAGE_NEG, SELFIE]\n",
    "\n",
    "# Supprimer le contenu des dossiers existants\n",
    "for folder in folders:\n",
    "    if os.path.exists(folder):\n",
    "        shutil.rmtree(folder)\n",
    "    os.makedirs(folder)\n",
    "\n",
    "# Maintenant, les dossiers sont vides ou créés s'ils n'existent pas\n",
    "\n"
   ]
  },
  {
   "cell_type": "code",
   "execution_count": 130,
   "id": "fa0dbb44",
   "metadata": {},
   "outputs": [],
   "source": [
    "# for directory in os.listdir('lfw'):\n",
    "#     for file in os.listdir(os.path.join('lfw', directory)):\n",
    "#         EX_PATH = os.path.join('lfw', directory, file)\n",
    "#         NEW_PATH = os.path.join(IMAGE_NEG, file)\n",
    "#         shutil.copy(EX_PATH, NEW_PATH)"
   ]
  },
  {
   "cell_type": "code",
   "execution_count": 8,
   "id": "4e3d70a8",
   "metadata": {},
   "outputs": [],
   "source": [
    "# identifiant unique \n",
    "import uuid"
   ]
  },
  {
   "cell_type": "code",
   "execution_count": 10,
   "id": "1e2f570e",
   "metadata": {},
   "outputs": [
    {
     "ename": "",
     "evalue": "",
     "output_type": "error",
     "traceback": [
      "\u001b[1;31mLe Kernel s’est bloqué lors de l’exécution du code dans la cellule active ou une cellule précédente. Veuillez vérifier le code dans la ou les cellules pour identifier une cause possible de l’échec. Cliquez <a href='https://aka.ms/vscodeJupyterKernelCrash'>ici</a> pour plus d’informations. Pour plus d’informations, consultez Jupyter <a href='command:jupyter.viewOutput'>log</a>."
     ]
    }
   ],
   "source": [
    "cap = cv2.VideoCapture(0)\n",
    "\n",
    "while cap.isOpened():\n",
    "    ret, frame = cap.read()\n",
    "\n",
    "    frame_height, frame_width, _ = frame.shape\n",
    "    roi_size = 250\n",
    "    roi_margin = 20  # Marge autour de la ROI\n",
    "\n",
    "    # Calcul des coordonnées pour centrer la ROI avec une marge\n",
    "    roi_y = max(0, (frame_height - roi_size) // 2 - roi_margin)\n",
    "    roi_x = max(0, (frame_width - roi_size) // 2 - roi_margin)\n",
    "\n",
    "    # Extraction de la ROI centrée avec la marge\n",
    "    frame_roi = frame[roi_y:roi_y + roi_size + 2 * roi_margin, roi_x:roi_x + roi_size + 2 * roi_margin, :]\n",
    "\n",
    "    if cv2.waitKey(1) & 0XFF == ord('a'):\n",
    "        imgname = os.path.join(SELFIE, '{}.jpg'.format(uuid.uuid1()))\n",
    "        cv2.imwrite(imgname, frame_roi)\n",
    "\n",
    "    if cv2.waitKey(1) & 0XFF == ord('p'):\n",
    "        imgname = os.path.join(IMAGE_POS, '{}.jpg'.format(uuid.uuid1()))\n",
    "        cv2.imwrite(imgname, frame_roi)\n",
    "\n",
    "    cv2.imshow('Image Collection', frame_roi)\n",
    "\n",
    "    if cv2.waitKey(1) & 0XFF == ord('q'):\n",
    "        break\n",
    "\n",
    "cap.release()\n",
    "cv2.destroyAllWindows()\n"
   ]
  },
  {
   "cell_type": "code",
   "execution_count": 133,
   "id": "0d6d1baa",
   "metadata": {},
   "outputs": [],
   "source": [
    "# def data_aug(img):\n",
    "#     data = []\n",
    "#     for i in range(9):\n",
    "#         augmented_img = tf.image.stateless_random_brightness(img, max_delta=0.02, seed=(1, 2))\n",
    "#         augmented_img = tf.image.stateless_random_contrast(augmented_img, lower=0.6, upper=1, seed=(1, 3))\n",
    "#         # augmented_img = tf.image.stateless_random_crop(augmented_img, size=(20, 20, 3), seed=(1, 2))\n",
    "#         augmented_img = tf.image.stateless_random_flip_left_right(augmented_img, seed=(np.random.randint(100), np.random.randint(100)))\n",
    "#         augmented_img = tf.image.stateless_random_jpeg_quality(augmented_img, min_jpeg_quality=90, max_jpeg_quality=100, seed=(np.random.randint(100), np.random.randint(100)))\n",
    "#         augmented_img = tf.image.stateless_random_saturation(augmented_img, lower=0.9, upper=1, seed=(np.random.randint(100), np.random.randint(100)))\n",
    "\n",
    "#         data.append(augmented_img)\n",
    "\n",
    "#     return data"
   ]
  },
  {
   "cell_type": "code",
   "execution_count": 134,
   "id": "3d20f511",
   "metadata": {},
   "outputs": [],
   "source": [
    "# for file_name in os.listdir(SELFIE):\n",
    "#     img_path = os.path.join(SELFIE, file_name)\n",
    "    \n",
    "#     # Read the image using cv2.imread\n",
    "#     img = cv2.imread(img_path)\n",
    "\n",
    "#     # Check if the image is loaded successfully\n",
    "#     if img is not None:\n",
    "\n",
    "#         augmented_images = data_aug(img)\n",
    "#         for image in augmented_images:\n",
    "#             cv2.imwrite(os.path.join(SELFIE, '{}.jpg'.format(uuid.uuid1())), image.numpy())"
   ]
  },
  {
   "cell_type": "code",
   "execution_count": 135,
   "id": "730f91e7",
   "metadata": {},
   "outputs": [],
   "source": [
    "# for file_name in os.listdir(os.path.join(IMAGE_POS)):\n",
    "#     img_path = os.path.join(IMAGE_POS, file_name)\n",
    "#     img = cv2.imread(img_path)\n",
    "\n",
    "#     if img is not None: \n",
    "#         augmented_images = data_aug(img)\n",
    "\n",
    "#         for image in augmented_images:\n",
    "#             cv2.imwrite(os.path.join(IMAGE_POS, '{}.jpg'.format(uuid.uuid1())), image.numpy())"
   ]
  },
  {
   "cell_type": "code",
   "execution_count": 199,
   "id": "aec00071",
   "metadata": {},
   "outputs": [],
   "source": [
    "# PREPROCESSING\n",
    "num_selfie = len(os.listdir(SELFIE))\n",
    "num_positive = len(os.listdir(IMAGE_POS))\n",
    "num_negative = len(os.listdir(IMAGE_NEG))\n",
    "\n",
    "selfie_pattern = os.path.join(SELFIE, '*.jpg')\n",
    "positive_pattern = os.path.join(IMAGE_POS, '*.jpg')\n",
    "negative_pattern = os.path.join(IMAGE_NEG, '*.jpg')\n",
    "\n",
    "\n",
    "selfie = tf.data.Dataset.list_files(selfie_pattern).take(num_selfie)\n",
    "positive = tf.data.Dataset.list_files(positive_pattern).take(num_positive)\n",
    "negative = tf.data.Dataset.list_files(negative_pattern).take(num_negative)"
   ]
  },
  {
   "cell_type": "code",
   "execution_count": 200,
   "metadata": {},
   "outputs": [
    {
     "name": "stdout",
     "output_type": "stream",
     "text": [
      "b'data/selfie/f7ebfeea-85ad-11ee-aa60-acde48001122.jpg'\n"
     ]
    }
   ],
   "source": [
    "dir_test = selfie.as_numpy_iterator()\n",
    "print(dir_test.next())"
   ]
  },
  {
   "cell_type": "code",
   "execution_count": 382,
   "id": "8cc389e5",
   "metadata": {},
   "outputs": [],
   "source": [
    "# RESCALE\n",
    "\n",
    "def preprocess(file_path):\n",
    "    \n",
    "    byte_img = tf.io.read_file(file_path)\n",
    "     \n",
    "    img = tf.io.decode_jpeg(byte_img)\n",
    "   \n",
    "    img = tf.image.resize(img, (105,105))\n",
    "    \n",
    "    img = img / 255.0\n",
    "\n",
    "    \n",
    "    return img"
   ]
  },
  {
   "cell_type": "code",
   "execution_count": 204,
   "id": "573c57e3",
   "metadata": {},
   "outputs": [
    {
     "data": {
      "text/plain": [
       "0.99028283"
      ]
     },
     "execution_count": 204,
     "metadata": {},
     "output_type": "execute_result"
    }
   ],
   "source": [
    "img = preprocess(dir_test.next())\n",
    "img.numpy().max()"
   ]
  },
  {
   "cell_type": "code",
   "execution_count": 205,
   "metadata": {},
   "outputs": [
    {
     "data": {
      "text/plain": [
       "<matplotlib.image.AxesImage at 0x13fb79a50>"
      ]
     },
     "execution_count": 205,
     "metadata": {},
     "output_type": "execute_result"
    },
    {
     "data": {
      "image/png": "[encoded data removed]",
      "text/plain": [
       "<Figure size 640x480 with 1 Axes>"
      ]
     },
     "metadata": {},
     "output_type": "display_data"
    }
   ],
   "source": [
    "plt.imshow(img)"
   ]
  },
  {
   "cell_type": "code",
   "execution_count": 206,
   "id": "4f904f91",
   "metadata": {},
   "outputs": [],
   "source": [
    "# CRETAION DES TRIPLETS \n",
    "\n",
    "positives = tf.data.Dataset.zip((selfie, positive, tf.data.Dataset.from_tensor_slices(tf.ones(len(selfie)))))\n",
    "negatives = tf.data.Dataset.zip((selfie, negative, tf.data.Dataset.from_tensor_slices(tf.zeros(len(selfie)))))\n",
    "data = positives.concatenate(negatives)"
   ]
  },
  {
   "cell_type": "code",
   "execution_count": 207,
   "id": "cd73345c",
   "metadata": {},
   "outputs": [],
   "source": [
    "exemple = data.as_numpy_iterator()"
   ]
  },
  {
   "cell_type": "code",
   "execution_count": 208,
   "id": "bd6c19c1",
   "metadata": {},
   "outputs": [
    {
     "name": "stdout",
     "output_type": "stream",
     "text": [
      "(b'data/selfie/beaad63c-85a9-11ee-aa60-acde48001122.jpg', b'data/positive/403bc450-85ae-11ee-aa60-acde48001122.jpg', 1.0)\n"
     ]
    }
   ],
   "source": [
    "exemples =exemple.next()\n",
    "print(exemples)"
   ]
  },
  {
   "cell_type": "code",
   "execution_count": 209,
   "id": "d8751c4a",
   "metadata": {},
   "outputs": [],
   "source": [
    "def preprocess_twin(input_img, validation_img, label):\n",
    "    return(preprocess(input_img), preprocess(validation_img), label)"
   ]
  },
  {
   "cell_type": "code",
   "execution_count": 210,
   "metadata": {},
   "outputs": [],
   "source": [
    "res = preprocess_twin(*exemples)"
   ]
  },
  {
   "cell_type": "code",
   "execution_count": 211,
   "metadata": {},
   "outputs": [
    {
     "data": {
      "text/plain": [
       "<matplotlib.image.AxesImage at 0x140331110>"
      ]
     },
     "execution_count": 211,
     "metadata": {},
     "output_type": "execute_result"
    },
    {
     "data": {
      "image/png": "[encoded data removed]",
      "text/plain": [
       "<Figure size 640x480 with 1 Axes>"
      ]
     },
     "metadata": {},
     "output_type": "display_data"
    }
   ],
   "source": [
    "plt.imshow(res[1])"
   ]
  },
  {
   "cell_type": "code",
   "execution_count": 212,
   "metadata": {},
   "outputs": [
    {
     "data": {
      "text/plain": [
       "1.0"
      ]
     },
     "execution_count": 212,
     "metadata": {},
     "output_type": "execute_result"
    }
   ],
   "source": [
    "res[2]"
   ]
  },
  {
   "cell_type": "code",
   "execution_count": 213,
   "id": "a32eb967",
   "metadata": {},
   "outputs": [],
   "source": [
    "# Build dataloader pipeline\n",
    "data = data.map(preprocess_twin)\n",
    "data = data.cache()\n",
    "data = data.shuffle(buffer_size=10000)"
   ]
  },
  {
   "cell_type": "code",
   "execution_count": 214,
   "id": "599e47ea",
   "metadata": {},
   "outputs": [],
   "source": [
    "# Training partition\n",
    "train_data = data.take(round(len(data)*.7))\n",
    "train_data = train_data.batch(16)\n",
    "train_data = train_data.prefetch(8)"
   ]
  },
  {
   "cell_type": "code",
   "execution_count": 215,
   "id": "f20101c2",
   "metadata": {},
   "outputs": [],
   "source": [
    "# Testing partition\n",
    "test_data = data.skip(round(len(data)*.7))\n",
    "test_data = test_data.take(round(len(data)*.3))\n",
    "test_data = test_data.batch(16)\n",
    "test_data = test_data.prefetch(8)"
   ]
  },
  {
   "cell_type": "markdown",
   "id": "c15dfbd8",
   "metadata": {},
   "source": [
    "# LE MODELE "
   ]
  },
  {
   "cell_type": "code",
   "execution_count": 216,
   "id": "3a6cb42c",
   "metadata": {},
   "outputs": [],
   "source": [
    "inp = Input(shape=(105,105,3), name='input_image')"
   ]
  },
  {
   "cell_type": "code",
   "execution_count": 217,
   "id": "021df688",
   "metadata": {},
   "outputs": [],
   "source": [
    "c1 = Conv2D(64, (10,10), activation='relu')(inp)"
   ]
  },
  {
   "cell_type": "code",
   "execution_count": 218,
   "id": "0bb6c6a1",
   "metadata": {},
   "outputs": [],
   "source": [
    "m1 = MaxPooling2D(64, (2,2), padding='same')(c1)"
   ]
  },
  {
   "cell_type": "code",
   "execution_count": 219,
   "id": "d17365a4",
   "metadata": {},
   "outputs": [],
   "source": [
    "c2 = Conv2D(128, (7,7), activation='relu')(m1)\n",
    "m2 = MaxPooling2D(64, (2,2), padding='same')(c2)"
   ]
  },
  {
   "cell_type": "code",
   "execution_count": 220,
   "id": "ae59db1a",
   "metadata": {},
   "outputs": [],
   "source": [
    "c3 = Conv2D(128, (4,4), activation='relu')(m2)\n",
    "m3 = MaxPooling2D(64, (2,2), padding='same')(c3)"
   ]
  },
  {
   "cell_type": "code",
   "execution_count": 221,
   "id": "9e44a6bc",
   "metadata": {},
   "outputs": [],
   "source": [
    "c4 = Conv2D(256, (4,4), activation='relu')(m3)\n",
    "f1 = Flatten()(c4)\n",
    "d1 = Dense(4096, activation='sigmoid')(f1)"
   ]
  },
  {
   "cell_type": "code",
   "execution_count": 222,
   "id": "a2a72a41",
   "metadata": {},
   "outputs": [],
   "source": [
    "mod = Model(inputs=[inp], outputs=[d1], name='embedding')"
   ]
  },
  {
   "cell_type": "code",
   "execution_count": 223,
   "id": "52ea0452",
   "metadata": {},
   "outputs": [
    {
     "name": "stdout",
     "output_type": "stream",
     "text": [
      "Model: \"embedding\"\n",
      "_________________________________________________________________\n",
      " Layer (type)                Output Shape              Param #   \n",
      "=================================================================\n",
      " input_image (InputLayer)    [(None, 105, 105, 3)]     0         \n",
      "                                                                 \n",
      " conv2d_24 (Conv2D)          (None, 96, 96, 64)        19264     \n",
      "                                                                 \n",
      " max_pooling2d_18 (MaxPooli  (None, 48, 48, 64)        0         \n",
      " ng2D)                                                           \n",
      "                                                                 \n",
      " conv2d_25 (Conv2D)          (None, 42, 42, 128)       401536    \n",
      "                                                                 \n",
      " max_pooling2d_19 (MaxPooli  (None, 21, 21, 128)       0         \n",
      " ng2D)                                                           \n",
      "                                                                 \n",
      " conv2d_26 (Conv2D)          (None, 18, 18, 128)       262272    \n",
      "                                                                 \n",
      " max_pooling2d_20 (MaxPooli  (None, 9, 9, 128)         0         \n",
      " ng2D)                                                           \n",
      "                                                                 \n",
      " conv2d_27 (Conv2D)          (None, 6, 6, 256)         524544    \n",
      "                                                                 \n",
      " flatten_6 (Flatten)         (None, 9216)              0         \n",
      "                                                                 \n",
      " dense_12 (Dense)            (None, 4096)              37752832  \n",
      "                                                                 \n",
      "=================================================================\n",
      "Total params: 38960448 (148.62 MB)\n",
      "Trainable params: 38960448 (148.62 MB)\n",
      "Non-trainable params: 0 (0.00 Byte)\n",
      "_________________________________________________________________\n"
     ]
    }
   ],
   "source": [
    "mod.summary()"
   ]
  },
  {
   "cell_type": "code",
   "execution_count": 224,
   "id": "72faa4c1",
   "metadata": {},
   "outputs": [],
   "source": [
    "def make_embedding(): \n",
    "    inp = Input(shape=(105,105,3), name='input_image')\n",
    "    \n",
    "    \n",
    "    c1 = Conv2D(64, (10,10), activation='relu')(inp)\n",
    "    m1 = MaxPooling2D(64, (2,2), padding='same')(c1)\n",
    "    \n",
    "    \n",
    "    c2 = Conv2D(128, (7,7), activation='relu')(m1)\n",
    "    m2 = MaxPooling2D(64, (2,2), padding='same')(c2)\n",
    "    \n",
    " \n",
    "    c3 = Conv2D(128, (4,4), activation='relu')(m2)\n",
    "    m3 = MaxPooling2D(64, (2,2), padding='same')(c3)\n",
    "    \n",
    " \n",
    "    c4 = Conv2D(256, (4,4), activation='relu')(m3)\n",
    "    f1 = Flatten()(c4)\n",
    "    d1 = Dense(4096, activation='sigmoid')(f1)\n",
    "    \n",
    "    \n",
    "    return Model(inputs=[inp], outputs=[d1], name='embedding')"
   ]
  },
  {
   "cell_type": "code",
   "execution_count": 225,
   "id": "32d651b5",
   "metadata": {},
   "outputs": [],
   "source": [
    "embedding = make_embedding()"
   ]
  },
  {
   "cell_type": "code",
   "execution_count": 226,
   "id": "df3904b5",
   "metadata": {},
   "outputs": [
    {
     "name": "stdout",
     "output_type": "stream",
     "text": [
      "Model: \"embedding\"\n",
      "_________________________________________________________________\n",
      " Layer (type)                Output Shape              Param #   \n",
      "=================================================================\n",
      " input_image (InputLayer)    [(None, 105, 105, 3)]     0         \n",
      "                                                                 \n",
      " conv2d_28 (Conv2D)          (None, 96, 96, 64)        19264     \n",
      "                                                                 \n",
      " max_pooling2d_21 (MaxPooli  (None, 48, 48, 64)        0         \n",
      " ng2D)                                                           \n",
      "                                                                 \n",
      " conv2d_29 (Conv2D)          (None, 42, 42, 128)       401536    \n",
      "                                                                 \n",
      " max_pooling2d_22 (MaxPooli  (None, 21, 21, 128)       0         \n",
      " ng2D)                                                           \n",
      "                                                                 \n",
      " conv2d_30 (Conv2D)          (None, 18, 18, 128)       262272    \n",
      "                                                                 \n",
      " max_pooling2d_23 (MaxPooli  (None, 9, 9, 128)         0         \n",
      " ng2D)                                                           \n",
      "                                                                 \n",
      " conv2d_31 (Conv2D)          (None, 6, 6, 256)         524544    \n",
      "                                                                 \n",
      " flatten_7 (Flatten)         (None, 9216)              0         \n",
      "                                                                 \n",
      " dense_13 (Dense)            (None, 4096)              37752832  \n",
      "                                                                 \n",
      "=================================================================\n",
      "Total params: 38960448 (148.62 MB)\n",
      "Trainable params: 38960448 (148.62 MB)\n",
      "Non-trainable params: 0 (0.00 Byte)\n",
      "_________________________________________________________________\n"
     ]
    }
   ],
   "source": [
    "embedding.summary()"
   ]
  },
  {
   "cell_type": "markdown",
   "id": "373b1540",
   "metadata": {},
   "source": [
    "# CALCUL DE DISTANCE"
   ]
  },
  {
   "cell_type": "code",
   "execution_count": 227,
   "id": "574250ca",
   "metadata": {},
   "outputs": [],
   "source": [
    "\n",
    "class L1Dist(Layer):\n",
    "    \n",
    "    \n",
    "    def __init__(self, **kwargs):\n",
    "        super().__init__()\n",
    "       \n",
    "    \n",
    "    def call(self, input_embedding, validation_embedding):\n",
    "        return tf.math.abs(input_embedding - validation_embedding)"
   ]
  },
  {
   "cell_type": "markdown",
   "id": "5d8e8ef9",
   "metadata": {},
   "source": [
    "# iFace_Pass MODELE"
   ]
  },
  {
   "cell_type": "code",
   "execution_count": 228,
   "id": "97ff5e14",
   "metadata": {},
   "outputs": [],
   "source": [
    "input_image = Input(name='input_img', shape=(105,105,3))\n",
    "validation_image = Input(name='validation_img', shape=(105,105,3))"
   ]
  },
  {
   "cell_type": "code",
   "execution_count": 229,
   "id": "4d6447df",
   "metadata": {},
   "outputs": [],
   "source": [
    "inp_embedding = embedding(input_image)\n",
    "val_embedding = embedding(validation_image)"
   ]
  },
  {
   "cell_type": "code",
   "execution_count": 232,
   "id": "26f8f4f1",
   "metadata": {},
   "outputs": [],
   "source": [
    "siamese_layer = L1Dist()"
   ]
  },
  {
   "cell_type": "code",
   "execution_count": 233,
   "id": "454d50f9",
   "metadata": {},
   "outputs": [],
   "source": [
    "distances = siamese_layer(inp_embedding, val_embedding)"
   ]
  },
  {
   "cell_type": "code",
   "execution_count": 234,
   "id": "682eae52",
   "metadata": {},
   "outputs": [],
   "source": [
    "classifier = Dense(1, activation='sigmoid')(distances)"
   ]
  },
  {
   "cell_type": "code",
   "execution_count": 235,
   "id": "bf63ec45",
   "metadata": {},
   "outputs": [
    {
     "data": {
      "text/plain": [
       "<KerasTensor: shape=(None, 1) dtype=float32 (created by layer 'dense_14')>"
      ]
     },
     "execution_count": 235,
     "metadata": {},
     "output_type": "execute_result"
    }
   ],
   "source": [
    "classifier"
   ]
  },
  {
   "cell_type": "code",
   "execution_count": 237,
   "id": "4bcb922e",
   "metadata": {},
   "outputs": [],
   "source": [
    "iface_pass = Model(inputs=[input_image, validation_image], outputs=classifier, name='iFace_Pass')"
   ]
  },
  {
   "cell_type": "code",
   "execution_count": 238,
   "id": "08e0d8c4",
   "metadata": {},
   "outputs": [
    {
     "name": "stdout",
     "output_type": "stream",
     "text": [
      "Model: \"iFace_Pass\"\n",
      "__________________________________________________________________________________________________\n",
      " Layer (type)                Output Shape                 Param #   Connected to                  \n",
      "==================================================================================================\n",
      " input_img (InputLayer)      [(None, 105, 105, 3)]        0         []                            \n",
      "                                                                                                  \n",
      " validation_img (InputLayer  [(None, 105, 105, 3)]        0         []                            \n",
      " )                                                                                                \n",
      "                                                                                                  \n",
      " embedding (Functional)      (None, 4096)                 3896044   ['input_img[0][0]',           \n",
      "                                                          8          'validation_img[0][0]']      \n",
      "                                                                                                  \n",
      " l1_dist_7 (L1Dist)          (None, 4096)                 0         ['embedding[0][0]',           \n",
      "                                                                     'embedding[1][0]']           \n",
      "                                                                                                  \n",
      " dense_14 (Dense)            (None, 1)                    4097      ['l1_dist_7[0][0]']           \n",
      "                                                                                                  \n",
      "==================================================================================================\n",
      "Total params: 38964545 (148.64 MB)\n",
      "Trainable params: 38964545 (148.64 MB)\n",
      "Non-trainable params: 0 (0.00 Byte)\n",
      "__________________________________________________________________________________________________\n"
     ]
    }
   ],
   "source": [
    "iface_pass.summary()"
   ]
  },
  {
   "cell_type": "code",
   "execution_count": 239,
   "id": "56553530",
   "metadata": {},
   "outputs": [],
   "source": [
    "def make_iface_pass_model(): \n",
    "    \n",
    "    \n",
    "    input_image = Input(name='input_img', shape=(105,105,3))\n",
    "    \n",
    "    \n",
    "    validation_image = Input(name='validation_img', shape=(105,105,3))\n",
    "    \n",
    "   \n",
    "    siamese_layer = L1Dist()\n",
    "    siamese_layer._name = 'distance'\n",
    "    distances = siamese_layer(embedding(input_image), embedding(validation_image))\n",
    "    \n",
    "    \n",
    "    classifier = Dense(1, activation='sigmoid')(distances)\n",
    "    \n",
    "    return Model(inputs=[input_image, validation_image], outputs=classifier, name='iFace_Pass')"
   ]
  },
  {
   "cell_type": "code",
   "execution_count": 240,
   "id": "e2ef7dbc",
   "metadata": {},
   "outputs": [],
   "source": [
    "iface_pass = make_iface_pass_model()"
   ]
  },
  {
   "cell_type": "code",
   "execution_count": 241,
   "id": "98b79436",
   "metadata": {},
   "outputs": [
    {
     "name": "stdout",
     "output_type": "stream",
     "text": [
      "Model: \"iFace_Pass\"\n",
      "__________________________________________________________________________________________________\n",
      " Layer (type)                Output Shape                 Param #   Connected to                  \n",
      "==================================================================================================\n",
      " input_img (InputLayer)      [(None, 105, 105, 3)]        0         []                            \n",
      "                                                                                                  \n",
      " validation_img (InputLayer  [(None, 105, 105, 3)]        0         []                            \n",
      " )                                                                                                \n",
      "                                                                                                  \n",
      " embedding (Functional)      (None, 4096)                 3896044   ['input_img[0][0]',           \n",
      "                                                          8          'validation_img[0][0]']      \n",
      "                                                                                                  \n",
      " distance (L1Dist)           (None, 4096)                 0         ['embedding[2][0]',           \n",
      "                                                                     'embedding[3][0]']           \n",
      "                                                                                                  \n",
      " dense_15 (Dense)            (None, 1)                    4097      ['distance[0][0]']            \n",
      "                                                                                                  \n",
      "==================================================================================================\n",
      "Total params: 38964545 (148.64 MB)\n",
      "Trainable params: 38964545 (148.64 MB)\n",
      "Non-trainable params: 0 (0.00 Byte)\n",
      "__________________________________________________________________________________________________\n"
     ]
    }
   ],
   "source": [
    "iface_pass.summary()"
   ]
  },
  {
   "cell_type": "markdown",
   "id": "760900e6",
   "metadata": {},
   "source": [
    "# ENTRAINEMENT"
   ]
  },
  {
   "cell_type": "markdown",
   "id": "2a36205d",
   "metadata": {},
   "source": [
    "## OPTIMIZER-LOSS FUNCTION"
   ]
  },
  {
   "cell_type": "code",
   "execution_count": 242,
   "id": "1f6a080a",
   "metadata": {},
   "outputs": [],
   "source": [
    "binary_cross_loss = tf.losses.BinaryCrossentropy()"
   ]
  },
  {
   "cell_type": "code",
   "execution_count": 244,
   "id": "81d7f667",
   "metadata": {},
   "outputs": [],
   "source": [
    "opt = tf.keras.optimizers.Adam(1e-4) # 0.0001"
   ]
  },
  {
   "cell_type": "markdown",
   "id": "ff925e08",
   "metadata": {},
   "source": [
    "## ETABLIR UN CHECKPOINT"
   ]
  },
  {
   "cell_type": "code",
   "execution_count": 245,
   "id": "c3cb74a9",
   "metadata": {},
   "outputs": [],
   "source": [
    "checkpoint_dir = './training_checkpoints'\n",
    "checkpoint_prefix = os.path.join(checkpoint_dir, 'ckpt')\n",
    "checkpoint = tf.train.Checkpoint(opt=opt, siamese_model=iface_pass)"
   ]
  },
  {
   "cell_type": "markdown",
   "id": "0433a20f",
   "metadata": {},
   "source": [
    "## FONCTION D'ENTRAINEMENT"
   ]
  },
  {
   "cell_type": "code",
   "execution_count": 246,
   "id": "c543d869",
   "metadata": {},
   "outputs": [],
   "source": [
    "test_batch = train_data.as_numpy_iterator()"
   ]
  },
  {
   "cell_type": "code",
   "execution_count": 247,
   "id": "e442b9e3",
   "metadata": {},
   "outputs": [],
   "source": [
    "batch_1 = test_batch.next()"
   ]
  },
  {
   "cell_type": "code",
   "execution_count": 248,
   "id": "bafc9df7",
   "metadata": {},
   "outputs": [],
   "source": [
    "X = batch_1[:2]"
   ]
  },
  {
   "cell_type": "code",
   "execution_count": 250,
   "id": "b539badf",
   "metadata": {},
   "outputs": [],
   "source": [
    "y = batch_1[2]"
   ]
  },
  {
   "cell_type": "code",
   "execution_count": 251,
   "id": "bcf46803",
   "metadata": {},
   "outputs": [
    {
     "data": {
      "text/plain": [
       "array([1., 0., 1., 0., 0., 0., 1., 1., 0., 1., 1., 0., 1., 1., 0., 0.],\n",
       "      dtype=float32)"
      ]
     },
     "execution_count": 251,
     "metadata": {},
     "output_type": "execute_result"
    }
   ],
   "source": [
    "y"
   ]
  },
  {
   "cell_type": "code",
   "execution_count": 253,
   "id": "7b4da1f0",
   "metadata": {},
   "outputs": [],
   "source": [
    "@tf.function\n",
    "def train_step(batch):\n",
    "    \n",
    "    # Record all of our operations \n",
    "    with tf.GradientTape() as tape:     \n",
    "        # Get anchor and positive/negative image\n",
    "        X = batch[:2]\n",
    "        # Get label\n",
    "        y = batch[2]\n",
    "        \n",
    "        # Forward pass\n",
    "        yhat = iface_pass(X, training=True)\n",
    "        # Calculate loss\n",
    "        loss = binary_cross_loss(y, yhat)\n",
    "    print(loss)\n",
    "        \n",
    "  \n",
    "    grad = tape.gradient(loss, iface_pass.trainable_variables)\n",
    "    \n",
    "   \n",
    "    opt.apply_gradients(zip(grad, iface_pass.trainable_variables))\n",
    "        \n",
    "    \n",
    "    return loss"
   ]
  },
  {
   "cell_type": "code",
   "execution_count": 254,
   "id": "668a6ddc",
   "metadata": {},
   "outputs": [],
   "source": [
    "\n",
    "from tensorflow.keras.metrics import Precision, Recall"
   ]
  },
  {
   "cell_type": "code",
   "execution_count": 255,
   "id": "be52afb2",
   "metadata": {},
   "outputs": [],
   "source": [
    "def train(data, EPOCHS):\n",
    "    # Loop through epochs\n",
    "    for epoch in range(1, EPOCHS+1):\n",
    "        print('\\n Epoch {}/{}'.format(epoch, EPOCHS))\n",
    "        progbar = tf.keras.utils.Progbar(len(data))\n",
    "        \n",
    "        # Loop through each batch\n",
    "        for idx, batch in enumerate(data):\n",
    "            # Run train step here\n",
    "            train_step(batch)\n",
    "            progbar.update(idx+1)\n",
    "        \n",
    "        # Save checkpoints\n",
    "        if epoch % 10 == 0: \n",
    "            checkpoint.save(file_prefix=checkpoint_prefix)"
   ]
  },
  {
   "cell_type": "markdown",
   "id": "96e810a9",
   "metadata": {},
   "source": [
    "# ENTRAINEMENT DU MODELE"
   ]
  },
  {
   "cell_type": "code",
   "execution_count": 256,
   "id": "80c4df9d",
   "metadata": {},
   "outputs": [],
   "source": [
    "EPOCHS = 50\n"
   ]
  },
  {
   "cell_type": "code",
   "execution_count": null,
   "id": "0b54438b",
   "metadata": {},
   "outputs": [],
   "source": [
    "train(train_data, EPOCHS)\n"
   ]
  },
  {
   "cell_type": "code",
   "execution_count": 262,
   "metadata": {},
   "outputs": [],
   "source": [
    "from tensorflow.keras.metrics import Precision, Recall"
   ]
  },
  {
   "cell_type": "code",
   "execution_count": 286,
   "metadata": {},
   "outputs": [],
   "source": [
    "test_input, test_val, y_true = test_data.as_numpy_iterator().next()"
   ]
  },
  {
   "cell_type": "code",
   "execution_count": 287,
   "metadata": {},
   "outputs": [
    {
     "name": "stdout",
     "output_type": "stream",
     "text": [
      "1/1 [==============================] - 1s 906ms/step\n"
     ]
    }
   ],
   "source": [
    "y_hat = iface_pass.predict([test_input, test_val])"
   ]
  },
  {
   "cell_type": "code",
   "execution_count": 288,
   "metadata": {},
   "outputs": [
    {
     "data": {
      "text/plain": [
       "[1, 1, 0, 1, 1, 1, 1, 0, 0, 1, 0, 1, 1, 0, 1, 1]"
      ]
     },
     "execution_count": 288,
     "metadata": {},
     "output_type": "execute_result"
    }
   ],
   "source": [
    "[1 if prediction > 0.5 else 0 for prediction in y_hat ]"
   ]
  },
  {
   "cell_type": "code",
   "execution_count": 289,
   "metadata": {},
   "outputs": [
    {
     "data": {
      "text/plain": [
       "array([1., 0., 0., 1., 1., 1., 1., 1., 1., 1., 0., 1., 1., 1., 0., 1.],\n",
       "      dtype=float32)"
      ]
     },
     "execution_count": 289,
     "metadata": {},
     "output_type": "execute_result"
    }
   ],
   "source": [
    "y_true"
   ]
  },
  {
   "cell_type": "code",
   "execution_count": 290,
   "metadata": {},
   "outputs": [
    {
     "data": {
      "text/plain": [
       "0.75"
      ]
     },
     "execution_count": 290,
     "metadata": {},
     "output_type": "execute_result"
    }
   ],
   "source": [
    "# Creating a metric object \n",
    "m = Recall()\n",
    "\n",
    "# Calculating the recall value \n",
    "m.update_state(y_true, y_hat)\n",
    "\n",
    "# Return Recall Result\n",
    "m.result().numpy()"
   ]
  },
  {
   "cell_type": "code",
   "execution_count": 291,
   "metadata": {},
   "outputs": [
    {
     "name": "stdout",
     "output_type": "stream",
     "text": [
      "1/1 [==============================] - 1s 1s/step\n",
      "1/1 [==============================] - 1s 898ms/step\n",
      "1/1 [==============================] - 1s 837ms/step\n",
      "1/1 [==============================] - 1s 1s/step\n",
      "1/1 [==============================] - 1s 1s/step\n",
      "1/1 [==============================] - 1s 1s/step\n",
      "1/1 [==============================] - 1s 1s/step\n",
      "1/1 [==============================] - 1s 1s/step\n",
      "1/1 [==============================] - 1s 1s/step\n",
      "1/1 [==============================] - 1s 1s/step\n",
      "1/1 [==============================] - 1s 1s/step\n",
      "1/1 [==============================] - 1s 1s/step\n",
      "1/1 [==============================] - 1s 1s/step\n",
      "1/1 [==============================] - 1s 1s/step\n",
      "1/1 [==============================] - 1s 977ms/step\n",
      "1/1 [==============================] - 1s 1s/step\n",
      "1/1 [==============================] - 1s 961ms/step\n",
      "1/1 [==============================] - 1s 1s/step\n",
      "1/1 [==============================] - 1s 992ms/step\n",
      "1/1 [==============================] - 1s 1s/step\n",
      "1/1 [==============================] - 1s 966ms/step\n",
      "1/1 [==============================] - 1s 1s/step\n",
      "1/1 [==============================] - 1s 1s/step\n",
      "1/1 [==============================] - 1s 984ms/step\n",
      "1/1 [==============================] - 1s 982ms/step\n",
      "1/1 [==============================] - 1s 1s/step\n",
      "1/1 [==============================] - 1s 963ms/step\n",
      "1/1 [==============================] - 1s 968ms/step\n",
      "1/1 [==============================] - 1s 1s/step\n",
      "1/1 [==============================] - 1s 981ms/step\n",
      "1/1 [==============================] - 1s 975ms/step\n",
      "1/1 [==============================] - 1s 1s/step\n",
      "1/1 [==============================] - 1s 1s/step\n",
      "1/1 [==============================] - 1s 1s/step\n",
      "1/1 [==============================] - 1s 958ms/step\n",
      "1/1 [==============================] - 1s 1s/step\n",
      "1/1 [==============================] - 1s 1s/step\n",
      "1/1 [==============================] - 1s 1s/step\n",
      "1/1 [==============================] - 1s 1s/step\n",
      "1/1 [==============================] - 1s 975ms/step\n",
      "1/1 [==============================] - 1s 1s/step\n",
      "1/1 [==============================] - 1s 1s/step\n",
      "1/1 [==============================] - 1s 1s/step\n",
      "1/1 [==============================] - 2s 2s/step\n",
      "1/1 [==============================] - 2s 2s/step\n",
      "1/1 [==============================] - 2s 2s/step\n",
      "1/1 [==============================] - 2s 2s/step\n",
      "1/1 [==============================] - 2s 2s/step\n",
      "1/1 [==============================] - 2s 2s/step\n",
      "1/1 [==============================] - 2s 2s/step\n",
      "1/1 [==============================] - 1s 1s/step\n",
      "1/1 [==============================] - 1s 1s/step\n",
      "1/1 [==============================] - 1s 1s/step\n",
      "1/1 [==============================] - 1s 1s/step\n",
      "1/1 [==============================] - 1s 1s/step\n",
      "1/1 [==============================] - 1s 960ms/step\n",
      "1/1 [==============================] - 2s 2s/step\n",
      "1/1 [==============================] - 1s 1s/step\n",
      "1/1 [==============================] - 1s 1s/step\n",
      "1/1 [==============================] - 1s 1s/step\n",
      "1/1 [==============================] - 2s 2s/step\n",
      "1/1 [==============================] - 1s 1s/step\n",
      "1/1 [==============================] - 1s 1s/step\n",
      "1/1 [==============================] - 1s 1s/step\n",
      "1/1 [==============================] - 1s 1s/step\n",
      "1/1 [==============================] - 1s 1s/step\n",
      "1/1 [==============================] - 1s 1s/step\n",
      "1/1 [==============================] - 1s 1s/step\n",
      "1/1 [==============================] - 1s 1s/step\n",
      "1/1 [==============================] - 1s 1s/step\n",
      "1/1 [==============================] - 1s 1s/step\n",
      "1/1 [==============================] - 2s 2s/step\n",
      "1/1 [==============================] - 1s 1s/step\n",
      "1/1 [==============================] - 1s 1s/step\n",
      "1/1 [==============================] - 1s 1s/step\n",
      "1/1 [==============================] - 1s 1s/step\n",
      "1/1 [==============================] - 1s 1s/step\n",
      "1/1 [==============================] - 1s 1s/step\n",
      "1/1 [==============================] - 1s 1s/step\n",
      "1/1 [==============================] - 1s 1s/step\n",
      "1/1 [==============================] - 1s 1s/step\n",
      "1/1 [==============================] - 2s 2s/step\n",
      "1/1 [==============================] - 2s 2s/step\n",
      "1/1 [==============================] - 1s 1s/step\n",
      "1/1 [==============================] - 1s 1s/step\n",
      "1/1 [==============================] - 1s 997ms/step\n",
      "1/1 [==============================] - 1s 1s/step\n",
      "1/1 [==============================] - 1s 1s/step\n",
      "1/1 [==============================] - 1s 1s/step\n",
      "1/1 [==============================] - 1s 1s/step\n",
      "1/1 [==============================] - 1s 1s/step\n",
      "1/1 [==============================] - 1s 1s/step\n",
      "1/1 [==============================] - 1s 1s/step\n",
      "1/1 [==============================] - 1s 1s/step\n",
      "1/1 [==============================] - 1s 1s/step\n",
      "1/1 [==============================] - 2s 2s/step\n",
      "1/1 [==============================] - 1s 1s/step\n",
      "1/1 [==============================] - 1s 1s/step\n",
      "1/1 [==============================] - 1s 1s/step\n",
      "1/1 [==============================] - 1s 1s/step\n",
      "1/1 [==============================] - 1s 1s/step\n",
      "1/1 [==============================] - 1s 1s/step\n",
      "1/1 [==============================] - 1s 996ms/step\n",
      "1/1 [==============================] - 1s 1s/step\n",
      "1/1 [==============================] - 1s 1s/step\n",
      "1/1 [==============================] - 1s 1s/step\n",
      "1/1 [==============================] - 1s 1s/step\n",
      "1/1 [==============================] - 1s 1s/step\n",
      "1/1 [==============================] - 2s 2s/step\n",
      "1/1 [==============================] - 1s 1s/step\n",
      "1/1 [==============================] - 1s 1s/step\n",
      "1/1 [==============================] - 1s 1s/step\n",
      "1/1 [==============================] - 1s 621ms/step\n",
      "0.6764706 0.44296297\n"
     ]
    }
   ],
   "source": [
    "r = Recall()\n",
    "p = Precision()\n",
    "\n",
    "for test_input, test_val, y_true in test_data.as_numpy_iterator():\n",
    "    yhat = iface_pass.predict([test_input, test_val])\n",
    "    r.update_state(y_true, yhat)\n",
    "    p.update_state(y_true,yhat) \n",
    "\n",
    "print(r.result().numpy(), p.result().numpy())"
   ]
  },
  {
   "cell_type": "code",
   "execution_count": 292,
   "metadata": {},
   "outputs": [
    {
     "data": {
      "image/png": "[encoded data removed]",
      "text/plain": [
       "<Figure size 1000x800 with 2 Axes>"
      ]
     },
     "metadata": {},
     "output_type": "display_data"
    }
   ],
   "source": [
    "# Set plot size \n",
    "plt.figure(figsize=(10,8))\n",
    "\n",
    "# Set first subplot\n",
    "plt.subplot(1,2,1)\n",
    "plt.imshow(test_input[0])\n",
    "\n",
    "# Set second subplot\n",
    "plt.subplot(1,2,2)\n",
    "plt.imshow(test_val[0])\n",
    "\n",
    "# Renders cleanly\n",
    "plt.show()"
   ]
  },
  {
   "cell_type": "code",
   "execution_count": 344,
   "metadata": {},
   "outputs": [
    {
     "data": {
      "text/plain": [
       "__main__.L1Dist"
      ]
     },
     "execution_count": 344,
     "metadata": {},
     "output_type": "execute_result"
    }
   ],
   "source": [
    "L1Dist"
   ]
  },
  {
   "cell_type": "code",
   "execution_count": 357,
   "metadata": {},
   "outputs": [
    {
     "name": "stdout",
     "output_type": "stream",
     "text": [
      "WARNING:tensorflow:No training configuration found in the save file, so the model was *not* compiled. Compile it manually.\n"
     ]
    }
   ],
   "source": [
    "iface_pass_model = tf.keras.models.load_model('iface_passv2.h5', \n",
    "                                   custom_objects={'L1Dist': L1Dist, 'BinaryCrossentropy': tf.losses.BinaryCrossentropy})"
   ]
  },
  {
   "cell_type": "code",
   "execution_count": 358,
   "metadata": {},
   "outputs": [
    {
     "name": "stdout",
     "output_type": "stream",
     "text": [
      "WARNING:tensorflow:6 out of the last 36 calls to <function Model.make_predict_function.<locals>.predict_function at 0x14993f560> triggered tf.function retracing. Tracing is expensive and the excessive number of tracings could be due to (1) creating @tf.function repeatedly in a loop, (2) passing tensors with different shapes, (3) passing Python objects instead of tensors. For (1), please define your @tf.function outside of the loop. For (2), @tf.function has reduce_retracing=True option that can avoid unnecessary retracing. For (3), please refer to https://www.tensorflow.org/guide/function#controlling_retracing and https://www.tensorflow.org/api_docs/python/tf/function for  more details.\n",
      "1/1 [==============================] - 1s 612ms/step\n"
     ]
    },
    {
     "data": {
      "text/plain": [
       "array([[1.31260196e-03],\n",
       "       [6.58236195e-06],\n",
       "       [1.00000000e+00],\n",
       "       [4.89139522e-04],\n",
       "       [9.99904513e-01],\n",
       "       [9.99944210e-01],\n",
       "       [6.86919819e-08],\n",
       "       [1.09362896e-04]], dtype=float32)"
      ]
     },
     "execution_count": 358,
     "metadata": {},
     "output_type": "execute_result"
    }
   ],
   "source": [
    "iface_pass_model.predict([test_input, test_val])"
   ]
  },
  {
   "cell_type": "code",
   "execution_count": 359,
   "metadata": {},
   "outputs": [
    {
     "name": "stdout",
     "output_type": "stream",
     "text": [
      "Model: \"iFace_Pass\"\n",
      "__________________________________________________________________________________________________\n",
      " Layer (type)                Output Shape                 Param #   Connected to                  \n",
      "==================================================================================================\n",
      " input_img (InputLayer)      [(None, 105, 105, 3)]        0         []                            \n",
      "                                                                                                  \n",
      " validation_img (InputLayer  [(None, 105, 105, 3)]        0         []                            \n",
      " )                                                                                                \n",
      "                                                                                                  \n",
      " embedding (Functional)      (None, 4096)                 3896044   ['input_img[0][0]',           \n",
      "                                                          8          'validation_img[0][0]']      \n",
      "                                                                                                  \n",
      " l1_dist_22 (L1Dist)         (None, 4096)                 0         ['embedding[0][0]',           \n",
      "                                                                     'embedding[1][0]']           \n",
      "                                                                                                  \n",
      " dense_2 (Dense)             (None, 1)                    4097      ['l1_dist_22[0][0]']          \n",
      "                                                                                                  \n",
      "==================================================================================================\n",
      "Total params: 38964545 (148.64 MB)\n",
      "Trainable params: 38964545 (148.64 MB)\n",
      "Non-trainable params: 0 (0.00 Byte)\n",
      "__________________________________________________________________________________________________\n"
     ]
    }
   ],
   "source": [
    "iface_pass_model.summary()"
   ]
  },
  {
   "cell_type": "code",
   "execution_count": 360,
   "metadata": {},
   "outputs": [
    {
     "data": {
      "text/plain": [
       "['3a5510d2-85ae-11ee-aa60-acde48001122.jpg',\n",
       " '0fc0b942-85aa-11ee-aa60-acde48001122.jpg',\n",
       " '3cf72a96-85ae-11ee-aa60-acde48001122.jpg',\n",
       " '43553176-85ae-11ee-aa60-acde48001122.jpg',\n",
       " '4947190a-85ae-11ee-aa60-acde48001122.jpg',\n",
       " '.DS_Store',\n",
       " '3ce2277c-85ae-11ee-aa60-acde48001122.jpg',\n",
       " '3ac1a396-85ae-11ee-aa60-acde48001122.jpg',\n",
       " '4999739e-85ae-11ee-aa60-acde48001122.jpg',\n",
       " '3b455fce-85ae-11ee-aa60-acde48001122.jpg',\n",
       " '3a30f1d4-85ae-11ee-aa60-acde48001122.jpg',\n",
       " '3b02c1c8-85ae-11ee-aa60-acde48001122.jpg',\n",
       " '43127976-85ae-11ee-aa60-acde48001122.jpg',\n",
       " '4753051e-85ae-11ee-aa60-acde48001122.jpg',\n",
       " '2a5d51f2-85aa-11ee-aa60-acde48001122.jpg',\n",
       " '4483668a-85ae-11ee-aa60-acde48001122.jpg',\n",
       " '44002680-85ae-11ee-aa60-acde48001122.jpg',\n",
       " '3eecf358-85ae-11ee-aa60-acde48001122.jpg',\n",
       " '3ce2720e-85ae-11ee-aa60-acde48001122.jpg',\n",
       " '3a69eae2-85aa-11ee-aa60-acde48001122.jpg',\n",
       " '2a2a7926-85aa-11ee-aa60-acde48001122.jpg',\n",
       " '3b6f90b4-85ae-11ee-aa60-acde48001122.jpg',\n",
       " '3ac16e9e-85ae-11ee-aa60-acde48001122.jpg',\n",
       " '3b1c4d6e-85ae-11ee-aa60-acde48001122.jpg',\n",
       " '3ed582ae-85ae-11ee-aa60-acde48001122.jpg',\n",
       " '3a936b5c-85ae-11ee-aa60-acde48001122.jpg',\n",
       " '0ff3747c-85aa-11ee-aa60-acde48001122.jpg',\n",
       " '3a30d35c-85ae-11ee-aa60-acde48001122.jpg',\n",
       " '3a6847e2-85ae-11ee-aa60-acde48001122.jpg',\n",
       " '0f8db6a0-85aa-11ee-aa60-acde48001122.jpg',\n",
       " '2adc7ac2-85aa-11ee-aa60-acde48001122.jpg',\n",
       " '3eebfb6a-85ae-11ee-aa60-acde48001122.jpg',\n",
       " '3ed50360-85ae-11ee-aa60-acde48001122.jpg',\n",
       " '3a7d9b56-85ae-11ee-aa60-acde48001122.jpg',\n",
       " '3eec1ad2-85ae-11ee-aa60-acde48001122.jpg',\n",
       " '3ed54460-85ae-11ee-aa60-acde48001122.jpg',\n",
       " '3b1b2c72-85ae-11ee-aa60-acde48001122.jpg',\n",
       " '3b027722-85ae-11ee-aa60-acde48001122.jpg',\n",
       " '2b5b6f9e-85aa-11ee-aa60-acde48001122.jpg',\n",
       " '3b582a32-85ae-11ee-aa60-acde48001122.jpg',\n",
       " '3b896c50-85ae-11ee-aa60-acde48001122.jpg',\n",
       " '0ec277ce-85aa-11ee-aa60-acde48001122.jpg',\n",
       " '0f283eec-85aa-11ee-aa60-acde48001122.jpg',\n",
       " '3a7e1914-85ae-11ee-aa60-acde48001122.jpg',\n",
       " '3cf6abd4-85ae-11ee-aa60-acde48001122.jpg',\n",
       " '4572231a-85ae-11ee-aa60-acde48001122.jpg',\n",
       " '3a426e32-85ae-11ee-aa60-acde48001122.jpg',\n",
       " '3a30b534-85ae-11ee-aa60-acde48001122.jpg',\n",
       " '3ac0a9f0-85ae-11ee-aa60-acde48001122.jpg',\n",
       " '2b0f451a-85aa-11ee-aa60-acde48001122.jpg',\n",
       " '3c6f6174-85ae-11ee-aa60-acde48001122.jpg']"
      ]
     },
     "execution_count": 360,
     "metadata": {},
     "output_type": "execute_result"
    }
   ],
   "source": [
    "os.listdir(os.path.join('application_data', 'verification_images'))"
   ]
  },
  {
   "cell_type": "code",
   "execution_count": 361,
   "metadata": {},
   "outputs": [
    {
     "data": {
      "text/plain": [
       "'application_data/input_image/input_image.jpg'"
      ]
     },
     "execution_count": 361,
     "metadata": {},
     "output_type": "execute_result"
    }
   ],
   "source": [
    "os.path.join('application_data', 'input_image', 'input_image.jpg')"
   ]
  },
  {
   "cell_type": "code",
   "execution_count": 362,
   "metadata": {},
   "outputs": [
    {
     "name": "stdout",
     "output_type": "stream",
     "text": [
      "application_data/verification_images/3a5510d2-85ae-11ee-aa60-acde48001122.jpg\n",
      "application_data/verification_images/0fc0b942-85aa-11ee-aa60-acde48001122.jpg\n",
      "application_data/verification_images/3cf72a96-85ae-11ee-aa60-acde48001122.jpg\n",
      "application_data/verification_images/43553176-85ae-11ee-aa60-acde48001122.jpg\n",
      "application_data/verification_images/4947190a-85ae-11ee-aa60-acde48001122.jpg\n",
      "application_data/verification_images/.DS_Store\n",
      "application_data/verification_images/3ce2277c-85ae-11ee-aa60-acde48001122.jpg\n",
      "application_data/verification_images/3ac1a396-85ae-11ee-aa60-acde48001122.jpg\n",
      "application_data/verification_images/4999739e-85ae-11ee-aa60-acde48001122.jpg\n",
      "application_data/verification_images/3b455fce-85ae-11ee-aa60-acde48001122.jpg\n",
      "application_data/verification_images/3a30f1d4-85ae-11ee-aa60-acde48001122.jpg\n",
      "application_data/verification_images/3b02c1c8-85ae-11ee-aa60-acde48001122.jpg\n",
      "application_data/verification_images/43127976-85ae-11ee-aa60-acde48001122.jpg\n",
      "application_data/verification_images/4753051e-85ae-11ee-aa60-acde48001122.jpg\n",
      "application_data/verification_images/2a5d51f2-85aa-11ee-aa60-acde48001122.jpg\n",
      "application_data/verification_images/4483668a-85ae-11ee-aa60-acde48001122.jpg\n",
      "application_data/verification_images/44002680-85ae-11ee-aa60-acde48001122.jpg\n",
      "application_data/verification_images/3eecf358-85ae-11ee-aa60-acde48001122.jpg\n",
      "application_data/verification_images/3ce2720e-85ae-11ee-aa60-acde48001122.jpg\n",
      "application_data/verification_images/3a69eae2-85aa-11ee-aa60-acde48001122.jpg\n",
      "application_data/verification_images/2a2a7926-85aa-11ee-aa60-acde48001122.jpg\n",
      "application_data/verification_images/3b6f90b4-85ae-11ee-aa60-acde48001122.jpg\n",
      "application_data/verification_images/3ac16e9e-85ae-11ee-aa60-acde48001122.jpg\n",
      "application_data/verification_images/3b1c4d6e-85ae-11ee-aa60-acde48001122.jpg\n",
      "application_data/verification_images/3ed582ae-85ae-11ee-aa60-acde48001122.jpg\n",
      "application_data/verification_images/3a936b5c-85ae-11ee-aa60-acde48001122.jpg\n",
      "application_data/verification_images/0ff3747c-85aa-11ee-aa60-acde48001122.jpg\n",
      "application_data/verification_images/3a30d35c-85ae-11ee-aa60-acde48001122.jpg\n",
      "application_data/verification_images/3a6847e2-85ae-11ee-aa60-acde48001122.jpg\n",
      "application_data/verification_images/0f8db6a0-85aa-11ee-aa60-acde48001122.jpg\n",
      "application_data/verification_images/2adc7ac2-85aa-11ee-aa60-acde48001122.jpg\n",
      "application_data/verification_images/3eebfb6a-85ae-11ee-aa60-acde48001122.jpg\n",
      "application_data/verification_images/3ed50360-85ae-11ee-aa60-acde48001122.jpg\n",
      "application_data/verification_images/3a7d9b56-85ae-11ee-aa60-acde48001122.jpg\n",
      "application_data/verification_images/3eec1ad2-85ae-11ee-aa60-acde48001122.jpg\n",
      "application_data/verification_images/3ed54460-85ae-11ee-aa60-acde48001122.jpg\n",
      "application_data/verification_images/3b1b2c72-85ae-11ee-aa60-acde48001122.jpg\n",
      "application_data/verification_images/3b027722-85ae-11ee-aa60-acde48001122.jpg\n",
      "application_data/verification_images/2b5b6f9e-85aa-11ee-aa60-acde48001122.jpg\n",
      "application_data/verification_images/3b582a32-85ae-11ee-aa60-acde48001122.jpg\n",
      "application_data/verification_images/3b896c50-85ae-11ee-aa60-acde48001122.jpg\n",
      "application_data/verification_images/0ec277ce-85aa-11ee-aa60-acde48001122.jpg\n",
      "application_data/verification_images/0f283eec-85aa-11ee-aa60-acde48001122.jpg\n",
      "application_data/verification_images/3a7e1914-85ae-11ee-aa60-acde48001122.jpg\n",
      "application_data/verification_images/3cf6abd4-85ae-11ee-aa60-acde48001122.jpg\n",
      "application_data/verification_images/4572231a-85ae-11ee-aa60-acde48001122.jpg\n",
      "application_data/verification_images/3a426e32-85ae-11ee-aa60-acde48001122.jpg\n",
      "application_data/verification_images/3a30b534-85ae-11ee-aa60-acde48001122.jpg\n",
      "application_data/verification_images/3ac0a9f0-85ae-11ee-aa60-acde48001122.jpg\n",
      "application_data/verification_images/2b0f451a-85aa-11ee-aa60-acde48001122.jpg\n",
      "application_data/verification_images/3c6f6174-85ae-11ee-aa60-acde48001122.jpg\n"
     ]
    }
   ],
   "source": [
    "for image in os.listdir(os.path.join('application_data', 'verification_images')):\n",
    "    validation_img = os.path.join('application_data', 'verification_images', image)\n",
    "    print(validation_img)"
   ]
  },
  {
   "cell_type": "code",
   "execution_count": 384,
   "metadata": {},
   "outputs": [],
   "source": [
    "def verify(model, detection_threshold, verification_threshold):\n",
    "    # Build results array\n",
    "    results = []\n",
    "    for image in os.listdir(os.path.join('application_data', 'verification_images')):\n",
    "        input_img = preprocess(os.path.join('application_data', 'input_image', 'input_image.jpg'))\n",
    "        validation_img = preprocess(os.path.join('application_data', 'verification_images', image))\n",
    "        \n",
    "        # Make Predictions \n",
    "        result = model.predict(list(np.expand_dims([input_img, validation_img], axis=1)))\n",
    "        results.append(result)\n",
    "    \n",
    "    # Detection Threshold: Metric above which a prediciton is considered positive \n",
    "    detection = np.sum(np.array(results) > detection_threshold)\n",
    "    \n",
    "    # Verification Threshold: Proportion of positive predictions / total positive samples \n",
    "    verification = detection / len(os.listdir(os.path.join('application_data', 'verification_images'))) \n",
    "    verified = verification > verification_threshold\n",
    "    \n",
    "    return results, verified"
   ]
  },
  {
   "cell_type": "code",
   "execution_count": 386,
   "metadata": {},
   "outputs": [
    {
     "ename": "InvalidArgumentError",
     "evalue": "Graph execution error:\n\nDetected at node iFace_Pass/embedding/dense_1/BiasAdd_1 defined at (most recent call last):\n  File \"<frozen runpy>\", line 198, in _run_module_as_main\n\n  File \"<frozen runpy>\", line 88, in _run_code\n\n  File \"/Users/jamesolongo/Documents/Institut Saint Jean/Master 2/1er Semestre/Machine Learning/Siamens/.venv/lib/python3.11/site-packages/ipykernel_launcher.py\", line 17, in <module>\n\n  File \"/Users/jamesolongo/Documents/Institut Saint Jean/Master 2/1er Semestre/Machine Learning/Siamens/.venv/lib/python3.11/site-packages/traitlets/config/application.py\", line 1053, in launch_instance\n\n  File \"/Users/jamesolongo/Documents/Institut Saint Jean/Master 2/1er Semestre/Machine Learning/Siamens/.venv/lib/python3.11/site-packages/ipykernel/kernelapp.py\", line 737, in start\n\n  File \"/Users/jamesolongo/Documents/Institut Saint Jean/Master 2/1er Semestre/Machine Learning/Siamens/.venv/lib/python3.11/site-packages/tornado/platform/asyncio.py\", line 195, in start\n\n  File \"/Library/Frameworks/Python.framework/Versions/3.11/lib/python3.11/asyncio/base_events.py\", line 607, in run_forever\n\n  File \"/Library/Frameworks/Python.framework/Versions/3.11/lib/python3.11/asyncio/base_events.py\", line 1922, in _run_once\n\n  File \"/Library/Frameworks/Python.framework/Versions/3.11/lib/python3.11/asyncio/events.py\", line 80, in _run\n\n  File \"/Users/jamesolongo/Documents/Institut Saint Jean/Master 2/1er Semestre/Machine Learning/Siamens/.venv/lib/python3.11/site-packages/ipykernel/kernelbase.py\", line 524, in dispatch_queue\n\n  File \"/Users/jamesolongo/Documents/Institut Saint Jean/Master 2/1er Semestre/Machine Learning/Siamens/.venv/lib/python3.11/site-packages/ipykernel/kernelbase.py\", line 513, in process_one\n\n  File \"/Users/jamesolongo/Documents/Institut Saint Jean/Master 2/1er Semestre/Machine Learning/Siamens/.venv/lib/python3.11/site-packages/ipykernel/kernelbase.py\", line 418, in dispatch_shell\n\n  File \"/Users/jamesolongo/Documents/Institut Saint Jean/Master 2/1er Semestre/Machine Learning/Siamens/.venv/lib/python3.11/site-packages/ipykernel/kernelbase.py\", line 758, in execute_request\n\n  File \"/Users/jamesolongo/Documents/Institut Saint Jean/Master 2/1er Semestre/Machine Learning/Siamens/.venv/lib/python3.11/site-packages/ipykernel/ipkernel.py\", line 426, in do_execute\n\n  File \"/Users/jamesolongo/Documents/Institut Saint Jean/Master 2/1er Semestre/Machine Learning/Siamens/.venv/lib/python3.11/site-packages/ipykernel/zmqshell.py\", line 549, in run_cell\n\n  File \"/Users/jamesolongo/Documents/Institut Saint Jean/Master 2/1er Semestre/Machine Learning/Siamens/.venv/lib/python3.11/site-packages/IPython/core/interactiveshell.py\", line 3046, in run_cell\n\n  File \"/Users/jamesolongo/Documents/Institut Saint Jean/Master 2/1er Semestre/Machine Learning/Siamens/.venv/lib/python3.11/site-packages/IPython/core/interactiveshell.py\", line 3101, in _run_cell\n\n  File \"/Users/jamesolongo/Documents/Institut Saint Jean/Master 2/1er Semestre/Machine Learning/Siamens/.venv/lib/python3.11/site-packages/IPython/core/async_helpers.py\", line 129, in _pseudo_sync_runner\n\n  File \"/Users/jamesolongo/Documents/Institut Saint Jean/Master 2/1er Semestre/Machine Learning/Siamens/.venv/lib/python3.11/site-packages/IPython/core/interactiveshell.py\", line 3306, in run_cell_async\n\n  File \"/Users/jamesolongo/Documents/Institut Saint Jean/Master 2/1er Semestre/Machine Learning/Siamens/.venv/lib/python3.11/site-packages/IPython/core/interactiveshell.py\", line 3488, in run_ast_nodes\n\n  File \"/Users/jamesolongo/Documents/Institut Saint Jean/Master 2/1er Semestre/Machine Learning/Siamens/.venv/lib/python3.11/site-packages/IPython/core/interactiveshell.py\", line 3548, in run_code\n\n  File \"/var/folders/8d/df4t0zt52_19w78x9yzz4_nw0000gn/T/ipykernel_55878/3774807659.py\", line 24, in <module>\n\n  File \"/var/folders/8d/df4t0zt52_19w78x9yzz4_nw0000gn/T/ipykernel_55878/139549914.py\", line 9, in verify\n\n  File \"/Users/jamesolongo/Documents/Institut Saint Jean/Master 2/1er Semestre/Machine Learning/Siamens/.venv/lib/python3.11/site-packages/keras/src/utils/traceback_utils.py\", line 65, in error_handler\n\n  File \"/Users/jamesolongo/Documents/Institut Saint Jean/Master 2/1er Semestre/Machine Learning/Siamens/.venv/lib/python3.11/site-packages/keras/src/engine/training.py\", line 2655, in predict\n\n  File \"/Users/jamesolongo/Documents/Institut Saint Jean/Master 2/1er Semestre/Machine Learning/Siamens/.venv/lib/python3.11/site-packages/keras/src/engine/training.py\", line 2440, in predict_function\n\n  File \"/Users/jamesolongo/Documents/Institut Saint Jean/Master 2/1er Semestre/Machine Learning/Siamens/.venv/lib/python3.11/site-packages/keras/src/engine/training.py\", line 2425, in step_function\n\n  File \"/Users/jamesolongo/Documents/Institut Saint Jean/Master 2/1er Semestre/Machine Learning/Siamens/.venv/lib/python3.11/site-packages/keras/src/engine/training.py\", line 2413, in run_step\n\n  File \"/Users/jamesolongo/Documents/Institut Saint Jean/Master 2/1er Semestre/Machine Learning/Siamens/.venv/lib/python3.11/site-packages/keras/src/engine/training.py\", line 2381, in predict_step\n\n  File \"/Users/jamesolongo/Documents/Institut Saint Jean/Master 2/1er Semestre/Machine Learning/Siamens/.venv/lib/python3.11/site-packages/keras/src/utils/traceback_utils.py\", line 65, in error_handler\n\n  File \"/Users/jamesolongo/Documents/Institut Saint Jean/Master 2/1er Semestre/Machine Learning/Siamens/.venv/lib/python3.11/site-packages/keras/src/engine/training.py\", line 590, in __call__\n\n  File \"/Users/jamesolongo/Documents/Institut Saint Jean/Master 2/1er Semestre/Machine Learning/Siamens/.venv/lib/python3.11/site-packages/keras/src/utils/traceback_utils.py\", line 65, in error_handler\n\n  File \"/Users/jamesolongo/Documents/Institut Saint Jean/Master 2/1er Semestre/Machine Learning/Siamens/.venv/lib/python3.11/site-packages/keras/src/engine/base_layer.py\", line 1149, in __call__\n\n  File \"/Users/jamesolongo/Documents/Institut Saint Jean/Master 2/1er Semestre/Machine Learning/Siamens/.venv/lib/python3.11/site-packages/keras/src/utils/traceback_utils.py\", line 96, in error_handler\n\n  File \"/Users/jamesolongo/Documents/Institut Saint Jean/Master 2/1er Semestre/Machine Learning/Siamens/.venv/lib/python3.11/site-packages/keras/src/engine/functional.py\", line 515, in call\n\n  File \"/Users/jamesolongo/Documents/Institut Saint Jean/Master 2/1er Semestre/Machine Learning/Siamens/.venv/lib/python3.11/site-packages/keras/src/engine/functional.py\", line 672, in _run_internal_graph\n\n  File \"/Users/jamesolongo/Documents/Institut Saint Jean/Master 2/1er Semestre/Machine Learning/Siamens/.venv/lib/python3.11/site-packages/keras/src/utils/traceback_utils.py\", line 65, in error_handler\n\n  File \"/Users/jamesolongo/Documents/Institut Saint Jean/Master 2/1er Semestre/Machine Learning/Siamens/.venv/lib/python3.11/site-packages/keras/src/engine/training.py\", line 590, in __call__\n\n  File \"/Users/jamesolongo/Documents/Institut Saint Jean/Master 2/1er Semestre/Machine Learning/Siamens/.venv/lib/python3.11/site-packages/keras/src/utils/traceback_utils.py\", line 65, in error_handler\n\n  File \"/Users/jamesolongo/Documents/Institut Saint Jean/Master 2/1er Semestre/Machine Learning/Siamens/.venv/lib/python3.11/site-packages/keras/src/engine/base_layer.py\", line 1149, in __call__\n\n  File \"/Users/jamesolongo/Documents/Institut Saint Jean/Master 2/1er Semestre/Machine Learning/Siamens/.venv/lib/python3.11/site-packages/keras/src/utils/traceback_utils.py\", line 96, in error_handler\n\n  File \"/Users/jamesolongo/Documents/Institut Saint Jean/Master 2/1er Semestre/Machine Learning/Siamens/.venv/lib/python3.11/site-packages/keras/src/engine/functional.py\", line 515, in call\n\n  File \"/Users/jamesolongo/Documents/Institut Saint Jean/Master 2/1er Semestre/Machine Learning/Siamens/.venv/lib/python3.11/site-packages/keras/src/engine/functional.py\", line 672, in _run_internal_graph\n\n  File \"/Users/jamesolongo/Documents/Institut Saint Jean/Master 2/1er Semestre/Machine Learning/Siamens/.venv/lib/python3.11/site-packages/keras/src/utils/traceback_utils.py\", line 65, in error_handler\n\n  File \"/Users/jamesolongo/Documents/Institut Saint Jean/Master 2/1er Semestre/Machine Learning/Siamens/.venv/lib/python3.11/site-packages/keras/src/engine/base_layer.py\", line 1149, in __call__\n\n  File \"/Users/jamesolongo/Documents/Institut Saint Jean/Master 2/1er Semestre/Machine Learning/Siamens/.venv/lib/python3.11/site-packages/keras/src/utils/traceback_utils.py\", line 96, in error_handler\n\n  File \"/Users/jamesolongo/Documents/Institut Saint Jean/Master 2/1er Semestre/Machine Learning/Siamens/.venv/lib/python3.11/site-packages/keras/src/layers/core/dense.py\", line 252, in call\n\nMatrix size-incompatible: In[0]: [1,160000], In[1]: [9216,4096]\n\t [[{{node iFace_Pass/embedding/dense_1/BiasAdd_1}}]] [Op:__inference_predict_function_41401]",
     "output_type": "error",
     "traceback": [
      "\u001b[0;31m---------------------------------------------------------------------------\u001b[0m",
      "\u001b[0;31mInvalidArgumentError\u001b[0m                      Traceback (most recent call last)",
      "\u001b[1;32m/Users/jamesolongo/Documents/Institut Saint Jean/Master 2/1er Semestre/Machine Learning/Siamens/TKeras_iFace_Pass.ipynb Cellule 87\u001b[0m line \u001b[0;36m2\n\u001b[1;32m     <a href='vscode-notebook-cell:/Users/jamesolongo/Documents/Institut%20Saint%20Jean/Master%202/1er%20Semestre/Machine%20Learning/Siamens/TKeras_iFace_Pass.ipynb#Y211sZmlsZQ%3D%3D?line=20'>21</a>\u001b[0m     cv2\u001b[39m.\u001b[39mimwrite(os\u001b[39m.\u001b[39mpath\u001b[39m.\u001b[39mjoin(\u001b[39m'\u001b[39m\u001b[39mapplication_data\u001b[39m\u001b[39m'\u001b[39m, \u001b[39m'\u001b[39m\u001b[39minput_image\u001b[39m\u001b[39m'\u001b[39m, \u001b[39m'\u001b[39m\u001b[39minput_image.jpg\u001b[39m\u001b[39m'\u001b[39m), frame)\n\u001b[1;32m     <a href='vscode-notebook-cell:/Users/jamesolongo/Documents/Institut%20Saint%20Jean/Master%202/1er%20Semestre/Machine%20Learning/Siamens/TKeras_iFace_Pass.ipynb#Y211sZmlsZQ%3D%3D?line=21'>22</a>\u001b[0m     \u001b[39m# Run verification\u001b[39;00m\n\u001b[0;32m---> <a href='vscode-notebook-cell:/Users/jamesolongo/Documents/Institut%20Saint%20Jean/Master%202/1er%20Semestre/Machine%20Learning/Siamens/TKeras_iFace_Pass.ipynb#Y211sZmlsZQ%3D%3D?line=22'>23</a>\u001b[0m     results, verified \u001b[39m=\u001b[39m verify(iface_pass_model, \u001b[39m0.5\u001b[39;49m, \u001b[39m0.5\u001b[39;49m)\n\u001b[1;32m     <a href='vscode-notebook-cell:/Users/jamesolongo/Documents/Institut%20Saint%20Jean/Master%202/1er%20Semestre/Machine%20Learning/Siamens/TKeras_iFace_Pass.ipynb#Y211sZmlsZQ%3D%3D?line=23'>24</a>\u001b[0m     \u001b[39mprint\u001b[39m(verified)\n\u001b[1;32m     <a href='vscode-notebook-cell:/Users/jamesolongo/Documents/Institut%20Saint%20Jean/Master%202/1er%20Semestre/Machine%20Learning/Siamens/TKeras_iFace_Pass.ipynb#Y211sZmlsZQ%3D%3D?line=25'>26</a>\u001b[0m \u001b[39mif\u001b[39;00m cv2\u001b[39m.\u001b[39mwaitKey(\u001b[39m10\u001b[39m) \u001b[39m&\u001b[39m \u001b[39m0xFF\u001b[39m \u001b[39m==\u001b[39m \u001b[39mord\u001b[39m(\u001b[39m'\u001b[39m\u001b[39mq\u001b[39m\u001b[39m'\u001b[39m):\n",
      "\u001b[1;32m/Users/jamesolongo/Documents/Institut Saint Jean/Master 2/1er Semestre/Machine Learning/Siamens/TKeras_iFace_Pass.ipynb Cellule 87\u001b[0m line \u001b[0;36m9\n\u001b[1;32m      <a href='vscode-notebook-cell:/Users/jamesolongo/Documents/Institut%20Saint%20Jean/Master%202/1er%20Semestre/Machine%20Learning/Siamens/TKeras_iFace_Pass.ipynb#Y211sZmlsZQ%3D%3D?line=5'>6</a>\u001b[0m     validation_img \u001b[39m=\u001b[39m preprocess(os\u001b[39m.\u001b[39mpath\u001b[39m.\u001b[39mjoin(\u001b[39m'\u001b[39m\u001b[39mapplication_data\u001b[39m\u001b[39m'\u001b[39m, \u001b[39m'\u001b[39m\u001b[39mverification_images\u001b[39m\u001b[39m'\u001b[39m, image))\n\u001b[1;32m      <a href='vscode-notebook-cell:/Users/jamesolongo/Documents/Institut%20Saint%20Jean/Master%202/1er%20Semestre/Machine%20Learning/Siamens/TKeras_iFace_Pass.ipynb#Y211sZmlsZQ%3D%3D?line=7'>8</a>\u001b[0m     \u001b[39m# Make Predictions \u001b[39;00m\n\u001b[0;32m----> <a href='vscode-notebook-cell:/Users/jamesolongo/Documents/Institut%20Saint%20Jean/Master%202/1er%20Semestre/Machine%20Learning/Siamens/TKeras_iFace_Pass.ipynb#Y211sZmlsZQ%3D%3D?line=8'>9</a>\u001b[0m     result \u001b[39m=\u001b[39m model\u001b[39m.\u001b[39;49mpredict(\u001b[39mlist\u001b[39;49m(np\u001b[39m.\u001b[39;49mexpand_dims([input_img, validation_img], axis\u001b[39m=\u001b[39;49m\u001b[39m1\u001b[39;49m)))\n\u001b[1;32m     <a href='vscode-notebook-cell:/Users/jamesolongo/Documents/Institut%20Saint%20Jean/Master%202/1er%20Semestre/Machine%20Learning/Siamens/TKeras_iFace_Pass.ipynb#Y211sZmlsZQ%3D%3D?line=9'>10</a>\u001b[0m     results\u001b[39m.\u001b[39mappend(result)\n\u001b[1;32m     <a href='vscode-notebook-cell:/Users/jamesolongo/Documents/Institut%20Saint%20Jean/Master%202/1er%20Semestre/Machine%20Learning/Siamens/TKeras_iFace_Pass.ipynb#Y211sZmlsZQ%3D%3D?line=11'>12</a>\u001b[0m \u001b[39m# Detection Threshold: Metric above which a prediciton is considered positive \u001b[39;00m\n",
      "File \u001b[0;32m~/Documents/Institut Saint Jean/Master 2/1er Semestre/Machine Learning/Siamens/.venv/lib/python3.11/site-packages/keras/src/utils/traceback_utils.py:70\u001b[0m, in \u001b[0;36mfilter_traceback.<locals>.error_handler\u001b[0;34m(*args, **kwargs)\u001b[0m\n\u001b[1;32m     67\u001b[0m     filtered_tb \u001b[39m=\u001b[39m _process_traceback_frames(e\u001b[39m.\u001b[39m__traceback__)\n\u001b[1;32m     68\u001b[0m     \u001b[39m# To get the full stack trace, call:\u001b[39;00m\n\u001b[1;32m     69\u001b[0m     \u001b[39m# `tf.debugging.disable_traceback_filtering()`\u001b[39;00m\n\u001b[0;32m---> 70\u001b[0m     \u001b[39mraise\u001b[39;00m e\u001b[39m.\u001b[39mwith_traceback(filtered_tb) \u001b[39mfrom\u001b[39;00m \u001b[39mNone\u001b[39;00m\n\u001b[1;32m     71\u001b[0m \u001b[39mfinally\u001b[39;00m:\n\u001b[1;32m     72\u001b[0m     \u001b[39mdel\u001b[39;00m filtered_tb\n",
      "File \u001b[0;32m~/Documents/Institut Saint Jean/Master 2/1er Semestre/Machine Learning/Siamens/.venv/lib/python3.11/site-packages/tensorflow/python/eager/execute.py:53\u001b[0m, in \u001b[0;36mquick_execute\u001b[0;34m(op_name, num_outputs, inputs, attrs, ctx, name)\u001b[0m\n\u001b[1;32m     51\u001b[0m \u001b[39mtry\u001b[39;00m:\n\u001b[1;32m     52\u001b[0m   ctx\u001b[39m.\u001b[39mensure_initialized()\n\u001b[0;32m---> 53\u001b[0m   tensors \u001b[39m=\u001b[39m pywrap_tfe\u001b[39m.\u001b[39mTFE_Py_Execute(ctx\u001b[39m.\u001b[39m_handle, device_name, op_name,\n\u001b[1;32m     54\u001b[0m                                       inputs, attrs, num_outputs)\n\u001b[1;32m     55\u001b[0m \u001b[39mexcept\u001b[39;00m core\u001b[39m.\u001b[39m_NotOkStatusException \u001b[39mas\u001b[39;00m e:\n\u001b[1;32m     56\u001b[0m   \u001b[39mif\u001b[39;00m name \u001b[39mis\u001b[39;00m \u001b[39mnot\u001b[39;00m \u001b[39mNone\u001b[39;00m:\n",
      "\u001b[0;31mInvalidArgumentError\u001b[0m: Graph execution error:\n\nDetected at node iFace_Pass/embedding/dense_1/BiasAdd_1 defined at (most recent call last):\n  File \"<frozen runpy>\", line 198, in _run_module_as_main\n\n  File \"<frozen runpy>\", line 88, in _run_code\n\n  File \"/Users/jamesolongo/Documents/Institut Saint Jean/Master 2/1er Semestre/Machine Learning/Siamens/.venv/lib/python3.11/site-packages/ipykernel_launcher.py\", line 17, in <module>\n\n  File \"/Users/jamesolongo/Documents/Institut Saint Jean/Master 2/1er Semestre/Machine Learning/Siamens/.venv/lib/python3.11/site-packages/traitlets/config/application.py\", line 1053, in launch_instance\n\n  File \"/Users/jamesolongo/Documents/Institut Saint Jean/Master 2/1er Semestre/Machine Learning/Siamens/.venv/lib/python3.11/site-packages/ipykernel/kernelapp.py\", line 737, in start\n\n  File \"/Users/jamesolongo/Documents/Institut Saint Jean/Master 2/1er Semestre/Machine Learning/Siamens/.venv/lib/python3.11/site-packages/tornado/platform/asyncio.py\", line 195, in start\n\n  File \"/Library/Frameworks/Python.framework/Versions/3.11/lib/python3.11/asyncio/base_events.py\", line 607, in run_forever\n\n  File \"/Library/Frameworks/Python.framework/Versions/3.11/lib/python3.11/asyncio/base_events.py\", line 1922, in _run_once\n\n  File \"/Library/Frameworks/Python.framework/Versions/3.11/lib/python3.11/asyncio/events.py\", line 80, in _run\n\n  File \"/Users/jamesolongo/Documents/Institut Saint Jean/Master 2/1er Semestre/Machine Learning/Siamens/.venv/lib/python3.11/site-packages/ipykernel/kernelbase.py\", line 524, in dispatch_queue\n\n  File \"/Users/jamesolongo/Documents/Institut Saint Jean/Master 2/1er Semestre/Machine Learning/Siamens/.venv/lib/python3.11/site-packages/ipykernel/kernelbase.py\", line 513, in process_one\n\n  File \"/Users/jamesolongo/Documents/Institut Saint Jean/Master 2/1er Semestre/Machine Learning/Siamens/.venv/lib/python3.11/site-packages/ipykernel/kernelbase.py\", line 418, in dispatch_shell\n\n  File \"/Users/jamesolongo/Documents/Institut Saint Jean/Master 2/1er Semestre/Machine Learning/Siamens/.venv/lib/python3.11/site-packages/ipykernel/kernelbase.py\", line 758, in execute_request\n\n  File \"/Users/jamesolongo/Documents/Institut Saint Jean/Master 2/1er Semestre/Machine Learning/Siamens/.venv/lib/python3.11/site-packages/ipykernel/ipkernel.py\", line 426, in do_execute\n\n  File \"/Users/jamesolongo/Documents/Institut Saint Jean/Master 2/1er Semestre/Machine Learning/Siamens/.venv/lib/python3.11/site-packages/ipykernel/zmqshell.py\", line 549, in run_cell\n\n  File \"/Users/jamesolongo/Documents/Institut Saint Jean/Master 2/1er Semestre/Machine Learning/Siamens/.venv/lib/python3.11/site-packages/IPython/core/interactiveshell.py\", line 3046, in run_cell\n\n  File \"/Users/jamesolongo/Documents/Institut Saint Jean/Master 2/1er Semestre/Machine Learning/Siamens/.venv/lib/python3.11/site-packages/IPython/core/interactiveshell.py\", line 3101, in _run_cell\n\n  File \"/Users/jamesolongo/Documents/Institut Saint Jean/Master 2/1er Semestre/Machine Learning/Siamens/.venv/lib/python3.11/site-packages/IPython/core/async_helpers.py\", line 129, in _pseudo_sync_runner\n\n  File \"/Users/jamesolongo/Documents/Institut Saint Jean/Master 2/1er Semestre/Machine Learning/Siamens/.venv/lib/python3.11/site-packages/IPython/core/interactiveshell.py\", line 3306, in run_cell_async\n\n  File \"/Users/jamesolongo/Documents/Institut Saint Jean/Master 2/1er Semestre/Machine Learning/Siamens/.venv/lib/python3.11/site-packages/IPython/core/interactiveshell.py\", line 3488, in run_ast_nodes\n\n  File \"/Users/jamesolongo/Documents/Institut Saint Jean/Master 2/1er Semestre/Machine Learning/Siamens/.venv/lib/python3.11/site-packages/IPython/core/interactiveshell.py\", line 3548, in run_code\n\n  File \"/var/folders/8d/df4t0zt52_19w78x9yzz4_nw0000gn/T/ipykernel_55878/3774807659.py\", line 24, in <module>\n\n  File \"/var/folders/8d/df4t0zt52_19w78x9yzz4_nw0000gn/T/ipykernel_55878/139549914.py\", line 9, in verify\n\n  File \"/Users/jamesolongo/Documents/Institut Saint Jean/Master 2/1er Semestre/Machine Learning/Siamens/.venv/lib/python3.11/site-packages/keras/src/utils/traceback_utils.py\", line 65, in error_handler\n\n  File \"/Users/jamesolongo/Documents/Institut Saint Jean/Master 2/1er Semestre/Machine Learning/Siamens/.venv/lib/python3.11/site-packages/keras/src/engine/training.py\", line 2655, in predict\n\n  File \"/Users/jamesolongo/Documents/Institut Saint Jean/Master 2/1er Semestre/Machine Learning/Siamens/.venv/lib/python3.11/site-packages/keras/src/engine/training.py\", line 2440, in predict_function\n\n  File \"/Users/jamesolongo/Documents/Institut Saint Jean/Master 2/1er Semestre/Machine Learning/Siamens/.venv/lib/python3.11/site-packages/keras/src/engine/training.py\", line 2425, in step_function\n\n  File \"/Users/jamesolongo/Documents/Institut Saint Jean/Master 2/1er Semestre/Machine Learning/Siamens/.venv/lib/python3.11/site-packages/keras/src/engine/training.py\", line 2413, in run_step\n\n  File \"/Users/jamesolongo/Documents/Institut Saint Jean/Master 2/1er Semestre/Machine Learning/Siamens/.venv/lib/python3.11/site-packages/keras/src/engine/training.py\", line 2381, in predict_step\n\n  File \"/Users/jamesolongo/Documents/Institut Saint Jean/Master 2/1er Semestre/Machine Learning/Siamens/.venv/lib/python3.11/site-packages/keras/src/utils/traceback_utils.py\", line 65, in error_handler\n\n  File \"/Users/jamesolongo/Documents/Institut Saint Jean/Master 2/1er Semestre/Machine Learning/Siamens/.venv/lib/python3.11/site-packages/keras/src/engine/training.py\", line 590, in __call__\n\n  File \"/Users/jamesolongo/Documents/Institut Saint Jean/Master 2/1er Semestre/Machine Learning/Siamens/.venv/lib/python3.11/site-packages/keras/src/utils/traceback_utils.py\", line 65, in error_handler\n\n  File \"/Users/jamesolongo/Documents/Institut Saint Jean/Master 2/1er Semestre/Machine Learning/Siamens/.venv/lib/python3.11/site-packages/keras/src/engine/base_layer.py\", line 1149, in __call__\n\n  File \"/Users/jamesolongo/Documents/Institut Saint Jean/Master 2/1er Semestre/Machine Learning/Siamens/.venv/lib/python3.11/site-packages/keras/src/utils/traceback_utils.py\", line 96, in error_handler\n\n  File \"/Users/jamesolongo/Documents/Institut Saint Jean/Master 2/1er Semestre/Machine Learning/Siamens/.venv/lib/python3.11/site-packages/keras/src/engine/functional.py\", line 515, in call\n\n  File \"/Users/jamesolongo/Documents/Institut Saint Jean/Master 2/1er Semestre/Machine Learning/Siamens/.venv/lib/python3.11/site-packages/keras/src/engine/functional.py\", line 672, in _run_internal_graph\n\n  File \"/Users/jamesolongo/Documents/Institut Saint Jean/Master 2/1er Semestre/Machine Learning/Siamens/.venv/lib/python3.11/site-packages/keras/src/utils/traceback_utils.py\", line 65, in error_handler\n\n  File \"/Users/jamesolongo/Documents/Institut Saint Jean/Master 2/1er Semestre/Machine Learning/Siamens/.venv/lib/python3.11/site-packages/keras/src/engine/training.py\", line 590, in __call__\n\n  File \"/Users/jamesolongo/Documents/Institut Saint Jean/Master 2/1er Semestre/Machine Learning/Siamens/.venv/lib/python3.11/site-packages/keras/src/utils/traceback_utils.py\", line 65, in error_handler\n\n  File \"/Users/jamesolongo/Documents/Institut Saint Jean/Master 2/1er Semestre/Machine Learning/Siamens/.venv/lib/python3.11/site-packages/keras/src/engine/base_layer.py\", line 1149, in __call__\n\n  File \"/Users/jamesolongo/Documents/Institut Saint Jean/Master 2/1er Semestre/Machine Learning/Siamens/.venv/lib/python3.11/site-packages/keras/src/utils/traceback_utils.py\", line 96, in error_handler\n\n  File \"/Users/jamesolongo/Documents/Institut Saint Jean/Master 2/1er Semestre/Machine Learning/Siamens/.venv/lib/python3.11/site-packages/keras/src/engine/functional.py\", line 515, in call\n\n  File \"/Users/jamesolongo/Documents/Institut Saint Jean/Master 2/1er Semestre/Machine Learning/Siamens/.venv/lib/python3.11/site-packages/keras/src/engine/functional.py\", line 672, in _run_internal_graph\n\n  File \"/Users/jamesolongo/Documents/Institut Saint Jean/Master 2/1er Semestre/Machine Learning/Siamens/.venv/lib/python3.11/site-packages/keras/src/utils/traceback_utils.py\", line 65, in error_handler\n\n  File \"/Users/jamesolongo/Documents/Institut Saint Jean/Master 2/1er Semestre/Machine Learning/Siamens/.venv/lib/python3.11/site-packages/keras/src/engine/base_layer.py\", line 1149, in __call__\n\n  File \"/Users/jamesolongo/Documents/Institut Saint Jean/Master 2/1er Semestre/Machine Learning/Siamens/.venv/lib/python3.11/site-packages/keras/src/utils/traceback_utils.py\", line 96, in error_handler\n\n  File \"/Users/jamesolongo/Documents/Institut Saint Jean/Master 2/1er Semestre/Machine Learning/Siamens/.venv/lib/python3.11/site-packages/keras/src/layers/core/dense.py\", line 252, in call\n\nMatrix size-incompatible: In[0]: [1,160000], In[1]: [9216,4096]\n\t [[{{node iFace_Pass/embedding/dense_1/BiasAdd_1}}]] [Op:__inference_predict_function_41401]"
     ]
    },
    {
     "ename": "",
     "evalue": "",
     "output_type": "error",
     "traceback": [
      "\u001b[1;31mLe Kernel s’est bloqué lors de l’exécution du code dans la cellule active ou une cellule précédente. Veuillez vérifier le code dans la ou les cellules pour identifier une cause possible de l’échec. Cliquez <a href='https://aka.ms/vscodeJupyterKernelCrash'>ici</a> pour plus d’informations. Pour plus d’informations, consultez Jupyter <a href='command:jupyter.viewOutput'>log</a>."
     ]
    }
   ],
   "source": [
    "cap = cv2.VideoCapture(0)\n",
    "while cap.isOpened():\n",
    "    ret, frame = cap.read()\n",
    "\n",
    "    frame_height, frame_width, _ = frame.shape\n",
    "    roi_size = 250\n",
    "\n",
    "    # Calcul des coordonnées pour centrer la ROI\n",
    "    roi_y = (frame_height - roi_size) // 2\n",
    "    roi_x = (frame_width - roi_size) // 2\n",
    "\n",
    "    # Extraction de la ROI centrée\n",
    "    frame = frame[roi_y:roi_y + roi_size, roi_x:roi_x + roi_size, :]\n",
    "    \n",
    "    cv2.imshow('Verification', frame)\n",
    "    \n",
    "    # Verification trigger\n",
    "    if cv2.waitKey(10) & 0xFF == ord('v'):\n",
    "\n",
    "\n",
    "        cv2.imwrite(os.path.join('application_data', 'input_image', 'input_image.jpg'), frame)\n",
    "        # Run verification\n",
    "        results, verified = verify(iface_pass_model, 0.5, 0.5)\n",
    "        print(verified)\n",
    "    \n",
    "    if cv2.waitKey(10) & 0xFF == ord('q'):\n",
    "        break\n",
    "cap.release()\n",
    "cv2.destroyAllWindows()"
   ]
  },
  {
   "cell_type": "code",
   "execution_count": 305,
   "metadata": {},
   "outputs": [
    {
     "ename": "NameError",
     "evalue": "name 'results' is not defined",
     "output_type": "error",
     "traceback": [
      "\u001b[0;31m---------------------------------------------------------------------------\u001b[0m",
      "\u001b[0;31mNameError\u001b[0m                                 Traceback (most recent call last)",
      "\u001b[1;32m/Users/jamesolongo/Documents/Institut Saint Jean/Master 2/1er Semestre/Machine Learning/Siamens/TKeras_iFace_Pass.ipynb Cellule 88\u001b[0m line \u001b[0;36m1\n\u001b[0;32m----> <a href='vscode-notebook-cell:/Users/jamesolongo/Documents/Institut%20Saint%20Jean/Master%202/1er%20Semestre/Machine%20Learning/Siamens/TKeras_iFace_Pass.ipynb#Y212sZmlsZQ%3D%3D?line=0'>1</a>\u001b[0m np\u001b[39m.\u001b[39msum(np\u001b[39m.\u001b[39msqueeze(results) \u001b[39m>\u001b[39m \u001b[39m0.9\u001b[39m)\n",
      "\u001b[0;31mNameError\u001b[0m: name 'results' is not defined"
     ]
    }
   ],
   "source": [
    "np.sum(np.squeeze(results) > 0.9)"
   ]
  }
 ],
 "metadata": {
  "kernelspec": {
   "display_name": "Python 3 (ipykernel)",
   "language": "python",
   "name": "python3"
  },
  "language_info": {
   "codemirror_mode": {
    "name": "ipython",
    "version": 3
   },
   "file_extension": ".py",
   "mimetype": "text/x-python",
   "name": "python",
   "nbconvert_exporter": "python",
   "pygments_lexer": "ipython3",
   "version": "3.11.5"
  }
 },
 "nbformat": 4,
 "nbformat_minor": 5
}
